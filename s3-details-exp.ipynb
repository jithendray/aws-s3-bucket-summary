{
 "cells": [
  {
   "cell_type": "code",
   "execution_count": 1,
   "metadata": {},
   "outputs": [],
   "source": [
    "import boto3\n",
    "import pandas as pd"
   ]
  },
  {
   "cell_type": "code",
   "execution_count": 22,
   "metadata": {},
   "outputs": [],
   "source": [
    "session = boto3.Session( \n",
    "         aws_access_key_id='<your_access_key_id>', \n",
    "         aws_secret_access_key='<your_secret_access_key>')"
   ]
  },
  {
   "cell_type": "code",
   "execution_count": 24,
   "metadata": {},
   "outputs": [],
   "source": [
    "s3_client = boto3.client('s3')"
   ]
  },
  {
   "cell_type": "code",
   "execution_count": 27,
   "metadata": {},
   "outputs": [],
   "source": [
    "df = pd.DataFrame()"
   ]
  },
  {
   "cell_type": "code",
   "execution_count": 28,
   "metadata": {},
   "outputs": [],
   "source": [
    "objects = s3_client.list_objects_v2(Bucket='adv3pl')\n",
    "\n",
    "key = []\n",
    "date = []\n",
    "\n",
    "for obj in objects['Contents']:\n",
    "    key.append(obj['Key'])\n",
    "    date.append(obj['LastModified'])"
   ]
  },
  {
   "cell_type": "code",
   "execution_count": 85,
   "metadata": {},
   "outputs": [],
   "source": [
    "s3_resource = boto3.resource('s3')\n",
    "folders = set()\n",
    "\n",
    "BUCKET = '<>'\n",
    "\n",
    "for object in s3_resource.Bucket(BUCKET).objects.all():\n",
    "    if object.size > 0 and '/' in object.key:\n",
    "        folders.add(object.key[:object.key.rfind('/')])\n",
    "\n",
    "prefixes = list(folders)"
   ]
  },
  {
   "cell_type": "code",
   "execution_count": 121,
   "metadata": {},
   "outputs": [
    {
     "data": {
      "text/plain": [
       "'OE_INDEX/oei_upper_lower'"
      ]
     },
     "execution_count": 121,
     "metadata": {},
     "output_type": "execute_result"
    }
   ],
   "source": [
    "prefixes[0]"
   ]
  },
  {
   "cell_type": "code",
   "execution_count": 157,
   "metadata": {},
   "outputs": [],
   "source": [
    "response = s3_client.list_objects_v2(Bucket='<>', Prefix='<>')\n",
    "files = response.get(\"Contents\")\n",
    "filename = []\n",
    "last_modified = []\n",
    "for file in files:\n",
    "    filename.append(file['Key'])\n",
    "    last_modified.append(file['LastModified'])\n",
    "folder_dict = {'filename' : filename, 'last_modified' : last_modified}"
   ]
  },
  {
   "cell_type": "code",
   "execution_count": 158,
   "metadata": {},
   "outputs": [],
   "source": [
    "folder_summary = pd.DataFrame.from_dict(folder_dict)\n",
    "folder_summary[['folder','file']] = folder_summary.filename.str.rsplit('/', 1).tolist()\n",
    "folder_summary['last_modified_date'] = pd.to_datetime(folder_summary['last_modified']).dt.date"
   ]
  },
  {
   "cell_type": "code",
   "execution_count": 160,
   "metadata": {},
   "outputs": [],
   "source": [
    "    folder_summary = folder_summary[folder_summary.file == folder_summary.file.max()]"
   ]
  },
  {
   "cell_type": "code",
   "execution_count": null,
   "metadata": {},
   "outputs": [],
   "source": []
  },
  {
   "cell_type": "code",
   "execution_count": 136,
   "metadata": {},
   "outputs": [
    {
     "name": "stdout",
     "output_type": "stream",
     "text": [
      "OE_INDEX/oei_upper_lower\n",
      "VOLUME_FLUCTUATIONS/Amante/Inventory\n"
     ]
    }
   ],
   "source": [
    "for prefix in prefixes[:2]:\n",
    "    print(prefix)"
   ]
  },
  {
   "cell_type": "code",
   "execution_count": 168,
   "metadata": {},
   "outputs": [],
   "source": [
    "s3_summary = pd.DataFrame(columns = ['folder', 'file', 'last_modified_date'])\n",
    "for prefix in prefixes:\n",
    "    response = s3_client.list_objects_v2(Bucket='adv3pl', Prefix=prefix)\n",
    "    files = response.get(\"Contents\")\n",
    "    filename = []\n",
    "    last_modified = []\n",
    "    for file in files:\n",
    "        filename.append(file['Key'])\n",
    "        last_modified.append(file['LastModified'])\n",
    "    folder_dict = {'filename' : filename, 'last_modified' : last_modified}\n",
    "    folder_summary = pd.DataFrame.from_dict(folder_dict)\n",
    "    folder_summary[['folder','file']] = folder_summary.filename.str.rsplit('/', 1).tolist()\n",
    "    folder_summary['last_modified_date'] = pd.to_datetime(folder_summary['last_modified']).dt.date\n",
    "    folder_summary = folder_summary[folder_summary.last_modified_date == folder_summary.last_modified_date.max()]\n",
    "    folder_summary = folder_summary[folder_summary.file == folder_summary.file.max()]\n",
    "    folder_summary = folder_summary[['folder', 'file', 'last_modified_date']]\n",
    "    s3_summary = s3_summary.append(folder_summary, True)"
   ]
  },
  {
   "cell_type": "code",
   "execution_count": 169,
   "metadata": {},
   "outputs": [
    {
     "data": {
      "text/plain": [
       "(125, 3)"
      ]
     },
     "execution_count": 169,
     "metadata": {},
     "output_type": "execute_result"
    }
   ],
   "source": [
    "s3_summary.shape"
   ]
  },
  {
   "cell_type": "code",
   "execution_count": 170,
   "metadata": {},
   "outputs": [
    {
     "data": {
      "text/plain": [
       "125"
      ]
     },
     "execution_count": 170,
     "metadata": {},
     "output_type": "execute_result"
    }
   ],
   "source": [
    "s3_summary.folder.nunique()"
   ]
  },
  {
   "cell_type": "code",
   "execution_count": 171,
   "metadata": {},
   "outputs": [
    {
     "data": {
      "text/plain": [
       "125"
      ]
     },
     "execution_count": 171,
     "metadata": {},
     "output_type": "execute_result"
    }
   ],
   "source": [
    "prefixes.__len__()"
   ]
  },
  {
   "cell_type": "code",
   "execution_count": 151,
   "metadata": {},
   "outputs": [],
   "source": [
    "import datetime"
   ]
  },
  {
   "cell_type": "code",
   "execution_count": 172,
   "metadata": {},
   "outputs": [],
   "source": [
    "s3_summary['extracted_date'] = datetime.datetime.now()"
   ]
  },
  {
   "cell_type": "code",
   "execution_count": 177,
   "metadata": {},
   "outputs": [],
   "source": [
    "date = datetime.datetime.now().strftime(\"%Y%m%d\")"
   ]
  },
  {
   "cell_type": "code",
   "execution_count": 184,
   "metadata": {},
   "outputs": [
    {
     "data": {
      "text/plain": [
       "'2022-05-25'"
      ]
     },
     "execution_count": 184,
     "metadata": {},
     "output_type": "execute_result"
    }
   ],
   "source": [
    "datetime.datetime.now().strftime(\"%Y-%m-%d\")"
   ]
  },
  {
   "cell_type": "code",
   "execution_count": 178,
   "metadata": {},
   "outputs": [
    {
     "data": {
      "text/plain": [
       "'20220525'"
      ]
     },
     "execution_count": 178,
     "metadata": {},
     "output_type": "execute_result"
    }
   ],
   "source": [
    "date"
   ]
  },
  {
   "cell_type": "code",
   "execution_count": 179,
   "metadata": {},
   "outputs": [],
   "source": [
    "s3_summary.to_excel(f'C://Users//ADMIN//Desktop//s3_summary_{date}.xlsx')"
   ]
  },
  {
   "cell_type": "code",
   "execution_count": 77,
   "metadata": {},
   "outputs": [
    {
     "data": {
      "text/html": [
       "<div>\n",
       "<style scoped>\n",
       "    .dataframe tbody tr th:only-of-type {\n",
       "        vertical-align: middle;\n",
       "    }\n",
       "\n",
       "    .dataframe tbody tr th {\n",
       "        vertical-align: top;\n",
       "    }\n",
       "\n",
       "    .dataframe thead th {\n",
       "        text-align: right;\n",
       "    }\n",
       "</style>\n",
       "<table border=\"1\" class=\"dataframe\">\n",
       "  <thead>\n",
       "    <tr style=\"text-align: right;\">\n",
       "      <th></th>\n",
       "      <th>filename</th>\n",
       "      <th>last_modified</th>\n",
       "      <th>folder</th>\n",
       "      <th>file</th>\n",
       "      <th>modified_date</th>\n",
       "      <th>last_modified_date</th>\n",
       "    </tr>\n",
       "  </thead>\n",
       "  <tbody>\n",
       "    <tr>\n",
       "      <th>0</th>\n",
       "      <td>ADV_STAFF/</td>\n",
       "      <td>2021-12-07 03:53:51+00:00</td>\n",
       "      <td>ADV_STAFF</td>\n",
       "      <td></td>\n",
       "      <td>2021-12-07</td>\n",
       "      <td>2021-12-07</td>\n",
       "    </tr>\n",
       "    <tr>\n",
       "      <th>1</th>\n",
       "      <td>ADV_STAFF/adv_staff_monthly_allocation_2021090...</td>\n",
       "      <td>2022-02-07 01:45:32+00:00</td>\n",
       "      <td>ADV_STAFF</td>\n",
       "      <td>adv_staff_monthly_allocation_20210901.csv</td>\n",
       "      <td>2022-02-07</td>\n",
       "      <td>2022-02-07</td>\n",
       "    </tr>\n",
       "    <tr>\n",
       "      <th>2</th>\n",
       "      <td>ADV_STAFF/adv_staff_monthly_allocation_2021100...</td>\n",
       "      <td>2022-02-10 11:58:54+00:00</td>\n",
       "      <td>ADV_STAFF</td>\n",
       "      <td>adv_staff_monthly_allocation_20211001.csv</td>\n",
       "      <td>2022-02-10</td>\n",
       "      <td>2022-02-10</td>\n",
       "    </tr>\n",
       "    <tr>\n",
       "      <th>3</th>\n",
       "      <td>ADV_STAFF/adv_staff_monthly_allocation_2021110...</td>\n",
       "      <td>2022-02-10 11:58:56+00:00</td>\n",
       "      <td>ADV_STAFF</td>\n",
       "      <td>adv_staff_monthly_allocation_20211101.csv</td>\n",
       "      <td>2022-02-10</td>\n",
       "      <td>2022-02-10</td>\n",
       "    </tr>\n",
       "    <tr>\n",
       "      <th>4</th>\n",
       "      <td>ADV_STAFF/adv_staff_monthly_allocation_2021120...</td>\n",
       "      <td>2022-02-10 11:58:58+00:00</td>\n",
       "      <td>ADV_STAFF</td>\n",
       "      <td>adv_staff_monthly_allocation_20211201.csv</td>\n",
       "      <td>2022-02-10</td>\n",
       "      <td>2022-02-10</td>\n",
       "    </tr>\n",
       "    <tr>\n",
       "      <th>5</th>\n",
       "      <td>ADV_STAFF/adv_staff_monthly_allocation_2022010...</td>\n",
       "      <td>2022-02-10 11:58:59+00:00</td>\n",
       "      <td>ADV_STAFF</td>\n",
       "      <td>adv_staff_monthly_allocation_20220101.csv</td>\n",
       "      <td>2022-02-10</td>\n",
       "      <td>2022-02-10</td>\n",
       "    </tr>\n",
       "    <tr>\n",
       "      <th>6</th>\n",
       "      <td>ADV_STAFF/adv_staff_monthly_allocation_2022020...</td>\n",
       "      <td>2022-05-11 11:08:44+00:00</td>\n",
       "      <td>ADV_STAFF</td>\n",
       "      <td>adv_staff_monthly_allocation_20220201.csv</td>\n",
       "      <td>2022-05-11</td>\n",
       "      <td>2022-05-11</td>\n",
       "    </tr>\n",
       "    <tr>\n",
       "      <th>7</th>\n",
       "      <td>ADV_STAFF/adv_staff_monthly_allocation_2022030...</td>\n",
       "      <td>2022-05-11 11:08:44+00:00</td>\n",
       "      <td>ADV_STAFF</td>\n",
       "      <td>adv_staff_monthly_allocation_20220301.csv</td>\n",
       "      <td>2022-05-11</td>\n",
       "      <td>2022-05-11</td>\n",
       "    </tr>\n",
       "    <tr>\n",
       "      <th>8</th>\n",
       "      <td>ADV_STAFF/adv_staff_monthly_allocation_2022040...</td>\n",
       "      <td>2022-05-11 11:08:43+00:00</td>\n",
       "      <td>ADV_STAFF</td>\n",
       "      <td>adv_staff_monthly_allocation_20220401.csv</td>\n",
       "      <td>2022-05-11</td>\n",
       "      <td>2022-05-11</td>\n",
       "    </tr>\n",
       "  </tbody>\n",
       "</table>\n",
       "</div>"
      ],
      "text/plain": [
       "                                            filename  \\\n",
       "0                                         ADV_STAFF/   \n",
       "1  ADV_STAFF/adv_staff_monthly_allocation_2021090...   \n",
       "2  ADV_STAFF/adv_staff_monthly_allocation_2021100...   \n",
       "3  ADV_STAFF/adv_staff_monthly_allocation_2021110...   \n",
       "4  ADV_STAFF/adv_staff_monthly_allocation_2021120...   \n",
       "5  ADV_STAFF/adv_staff_monthly_allocation_2022010...   \n",
       "6  ADV_STAFF/adv_staff_monthly_allocation_2022020...   \n",
       "7  ADV_STAFF/adv_staff_monthly_allocation_2022030...   \n",
       "8  ADV_STAFF/adv_staff_monthly_allocation_2022040...   \n",
       "\n",
       "              last_modified     folder  \\\n",
       "0 2021-12-07 03:53:51+00:00  ADV_STAFF   \n",
       "1 2022-02-07 01:45:32+00:00  ADV_STAFF   \n",
       "2 2022-02-10 11:58:54+00:00  ADV_STAFF   \n",
       "3 2022-02-10 11:58:56+00:00  ADV_STAFF   \n",
       "4 2022-02-10 11:58:58+00:00  ADV_STAFF   \n",
       "5 2022-02-10 11:58:59+00:00  ADV_STAFF   \n",
       "6 2022-05-11 11:08:44+00:00  ADV_STAFF   \n",
       "7 2022-05-11 11:08:44+00:00  ADV_STAFF   \n",
       "8 2022-05-11 11:08:43+00:00  ADV_STAFF   \n",
       "\n",
       "                                        file modified_date last_modified_date  \n",
       "0                                               2021-12-07         2021-12-07  \n",
       "1  adv_staff_monthly_allocation_20210901.csv    2022-02-07         2022-02-07  \n",
       "2  adv_staff_monthly_allocation_20211001.csv    2022-02-10         2022-02-10  \n",
       "3  adv_staff_monthly_allocation_20211101.csv    2022-02-10         2022-02-10  \n",
       "4  adv_staff_monthly_allocation_20211201.csv    2022-02-10         2022-02-10  \n",
       "5  adv_staff_monthly_allocation_20220101.csv    2022-02-10         2022-02-10  \n",
       "6  adv_staff_monthly_allocation_20220201.csv    2022-05-11         2022-05-11  \n",
       "7  adv_staff_monthly_allocation_20220301.csv    2022-05-11         2022-05-11  \n",
       "8  adv_staff_monthly_allocation_20220401.csv    2022-05-11         2022-05-11  "
      ]
     },
     "execution_count": 77,
     "metadata": {},
     "output_type": "execute_result"
    }
   ],
   "source": [
    "folder_summary"
   ]
  },
  {
   "cell_type": "code",
   "execution_count": 79,
   "metadata": {},
   "outputs": [],
   "source": []
  },
  {
   "cell_type": "code",
   "execution_count": 80,
   "metadata": {},
   "outputs": [],
   "source": []
  },
  {
   "cell_type": "code",
   "execution_count": 81,
   "metadata": {},
   "outputs": [
    {
     "data": {
      "text/html": [
       "<div>\n",
       "<style scoped>\n",
       "    .dataframe tbody tr th:only-of-type {\n",
       "        vertical-align: middle;\n",
       "    }\n",
       "\n",
       "    .dataframe tbody tr th {\n",
       "        vertical-align: top;\n",
       "    }\n",
       "\n",
       "    .dataframe thead th {\n",
       "        text-align: right;\n",
       "    }\n",
       "</style>\n",
       "<table border=\"1\" class=\"dataframe\">\n",
       "  <thead>\n",
       "    <tr style=\"text-align: right;\">\n",
       "      <th></th>\n",
       "      <th>folder</th>\n",
       "      <th>file</th>\n",
       "      <th>last_modified_date</th>\n",
       "    </tr>\n",
       "  </thead>\n",
       "  <tbody>\n",
       "    <tr>\n",
       "      <th>6</th>\n",
       "      <td>ADV_STAFF</td>\n",
       "      <td>adv_staff_monthly_allocation_20220201.csv</td>\n",
       "      <td>2022-05-11</td>\n",
       "    </tr>\n",
       "    <tr>\n",
       "      <th>7</th>\n",
       "      <td>ADV_STAFF</td>\n",
       "      <td>adv_staff_monthly_allocation_20220301.csv</td>\n",
       "      <td>2022-05-11</td>\n",
       "    </tr>\n",
       "    <tr>\n",
       "      <th>8</th>\n",
       "      <td>ADV_STAFF</td>\n",
       "      <td>adv_staff_monthly_allocation_20220401.csv</td>\n",
       "      <td>2022-05-11</td>\n",
       "    </tr>\n",
       "  </tbody>\n",
       "</table>\n",
       "</div>"
      ],
      "text/plain": [
       "      folder                                       file last_modified_date\n",
       "6  ADV_STAFF  adv_staff_monthly_allocation_20220201.csv         2022-05-11\n",
       "7  ADV_STAFF  adv_staff_monthly_allocation_20220301.csv         2022-05-11\n",
       "8  ADV_STAFF  adv_staff_monthly_allocation_20220401.csv         2022-05-11"
      ]
     },
     "execution_count": 81,
     "metadata": {},
     "output_type": "execute_result"
    }
   ],
   "source": [
    "folder_summary"
   ]
  },
  {
   "cell_type": "code",
   "execution_count": null,
   "metadata": {},
   "outputs": [],
   "source": []
  }
 ],
 "metadata": {
  "interpreter": {
   "hash": "2f155fbeb9494e5ce992090b8427abe3542dae7719d8ea0d05cb0b78608edd18"
  },
  "kernelspec": {
   "display_name": "Python 3.8.8 ('base')",
   "language": "python",
   "name": "python3"
  },
  "language_info": {
   "codemirror_mode": {
    "name": "ipython",
    "version": 3
   },
   "file_extension": ".py",
   "mimetype": "text/x-python",
   "name": "python",
   "nbconvert_exporter": "python",
   "pygments_lexer": "ipython3",
   "version": "3.8.8"
  },
  "orig_nbformat": 4
 },
 "nbformat": 4,
 "nbformat_minor": 2
}
